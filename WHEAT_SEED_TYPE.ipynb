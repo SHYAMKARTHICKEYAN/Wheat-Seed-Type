{
 "cells": [
  {
   "cell_type": "code",
   "execution_count": 1,
   "metadata": {
    "id": "cKJVYNrFleT6"
   },
   "outputs": [],
   "source": [
    "from sklearn.model_selection import train_test_split\n",
    "from sklearn.preprocessing import StandardScaler\n",
    "from sklearn.metrics import confusion_matrix,classification_report,accuracy_score\n",
    "import pandas as pd\n",
    "import numpy as np\n",
    "import matplotlib.pyplot as plt \n",
    "import seaborn as sns"
   ]
  },
  {
   "cell_type": "code",
   "execution_count": 2,
   "metadata": {
    "id": "_IA62KKCmVfk"
   },
   "outputs": [],
   "source": [
    "seed = pd.read_csv(r\"C:\\Users\\shyam\\OneDrive\\MACHINE LEARNING PROGRAMS\\seeds_dataset.csv\")"
   ]
  },
  {
   "cell_type": "code",
   "execution_count": 3,
   "metadata": {
    "id": "iqp-rV27moMD"
   },
   "outputs": [],
   "source": [
    "seed.columns=[' area A','perimeter P',' compactness C ','length of kernel','width of kernel','asymmetry coefficient ','length of kernel groove','Type']"
   ]
  },
  {
   "cell_type": "code",
   "execution_count": 4,
   "metadata": {
    "colab": {
     "base_uri": "https://localhost:8080/",
     "height": 423
    },
    "id": "WIippehvpmwv",
    "outputId": "db6264f7-a68b-4f80-e46a-babce50561d0"
   },
   "outputs": [
    {
     "data": {
      "text/html": [
       "<div>\n",
       "<style scoped>\n",
       "    .dataframe tbody tr th:only-of-type {\n",
       "        vertical-align: middle;\n",
       "    }\n",
       "\n",
       "    .dataframe tbody tr th {\n",
       "        vertical-align: top;\n",
       "    }\n",
       "\n",
       "    .dataframe thead th {\n",
       "        text-align: right;\n",
       "    }\n",
       "</style>\n",
       "<table border=\"1\" class=\"dataframe\">\n",
       "  <thead>\n",
       "    <tr style=\"text-align: right;\">\n",
       "      <th></th>\n",
       "      <th>area A</th>\n",
       "      <th>perimeter P</th>\n",
       "      <th>compactness C</th>\n",
       "      <th>length of kernel</th>\n",
       "      <th>width of kernel</th>\n",
       "      <th>asymmetry coefficient</th>\n",
       "      <th>length of kernel groove</th>\n",
       "      <th>Type</th>\n",
       "    </tr>\n",
       "  </thead>\n",
       "  <tbody>\n",
       "    <tr>\n",
       "      <th>0</th>\n",
       "      <td>14.88</td>\n",
       "      <td>14.57</td>\n",
       "      <td>0.8811</td>\n",
       "      <td>5.554</td>\n",
       "      <td>3.333</td>\n",
       "      <td>1.018</td>\n",
       "      <td>4.956</td>\n",
       "      <td>1</td>\n",
       "    </tr>\n",
       "    <tr>\n",
       "      <th>1</th>\n",
       "      <td>14.29</td>\n",
       "      <td>14.09</td>\n",
       "      <td>0.9050</td>\n",
       "      <td>5.291</td>\n",
       "      <td>3.337</td>\n",
       "      <td>2.699</td>\n",
       "      <td>4.825</td>\n",
       "      <td>1</td>\n",
       "    </tr>\n",
       "    <tr>\n",
       "      <th>2</th>\n",
       "      <td>13.84</td>\n",
       "      <td>13.94</td>\n",
       "      <td>0.8955</td>\n",
       "      <td>5.324</td>\n",
       "      <td>3.379</td>\n",
       "      <td>2.259</td>\n",
       "      <td>4.805</td>\n",
       "      <td>1</td>\n",
       "    </tr>\n",
       "    <tr>\n",
       "      <th>3</th>\n",
       "      <td>16.14</td>\n",
       "      <td>14.99</td>\n",
       "      <td>0.9034</td>\n",
       "      <td>5.658</td>\n",
       "      <td>3.562</td>\n",
       "      <td>1.355</td>\n",
       "      <td>5.175</td>\n",
       "      <td>1</td>\n",
       "    </tr>\n",
       "    <tr>\n",
       "      <th>4</th>\n",
       "      <td>14.38</td>\n",
       "      <td>14.21</td>\n",
       "      <td>0.8951</td>\n",
       "      <td>5.386</td>\n",
       "      <td>3.312</td>\n",
       "      <td>2.462</td>\n",
       "      <td>4.956</td>\n",
       "      <td>1</td>\n",
       "    </tr>\n",
       "    <tr>\n",
       "      <th>...</th>\n",
       "      <td>...</td>\n",
       "      <td>...</td>\n",
       "      <td>...</td>\n",
       "      <td>...</td>\n",
       "      <td>...</td>\n",
       "      <td>...</td>\n",
       "      <td>...</td>\n",
       "      <td>...</td>\n",
       "    </tr>\n",
       "    <tr>\n",
       "      <th>204</th>\n",
       "      <td>12.19</td>\n",
       "      <td>13.20</td>\n",
       "      <td>0.8783</td>\n",
       "      <td>5.137</td>\n",
       "      <td>2.981</td>\n",
       "      <td>3.631</td>\n",
       "      <td>4.870</td>\n",
       "      <td>3</td>\n",
       "    </tr>\n",
       "    <tr>\n",
       "      <th>205</th>\n",
       "      <td>11.23</td>\n",
       "      <td>12.88</td>\n",
       "      <td>0.8511</td>\n",
       "      <td>5.140</td>\n",
       "      <td>2.795</td>\n",
       "      <td>4.325</td>\n",
       "      <td>5.003</td>\n",
       "      <td>3</td>\n",
       "    </tr>\n",
       "    <tr>\n",
       "      <th>206</th>\n",
       "      <td>13.20</td>\n",
       "      <td>13.66</td>\n",
       "      <td>0.8883</td>\n",
       "      <td>5.236</td>\n",
       "      <td>3.232</td>\n",
       "      <td>8.315</td>\n",
       "      <td>5.056</td>\n",
       "      <td>3</td>\n",
       "    </tr>\n",
       "    <tr>\n",
       "      <th>207</th>\n",
       "      <td>11.84</td>\n",
       "      <td>13.21</td>\n",
       "      <td>0.8521</td>\n",
       "      <td>5.175</td>\n",
       "      <td>2.836</td>\n",
       "      <td>3.598</td>\n",
       "      <td>5.044</td>\n",
       "      <td>3</td>\n",
       "    </tr>\n",
       "    <tr>\n",
       "      <th>208</th>\n",
       "      <td>12.30</td>\n",
       "      <td>13.34</td>\n",
       "      <td>0.8684</td>\n",
       "      <td>5.243</td>\n",
       "      <td>2.974</td>\n",
       "      <td>5.637</td>\n",
       "      <td>5.063</td>\n",
       "      <td>3</td>\n",
       "    </tr>\n",
       "  </tbody>\n",
       "</table>\n",
       "<p>209 rows × 8 columns</p>\n",
       "</div>"
      ],
      "text/plain": [
       "      area A  perimeter P   compactness C   length of kernel  width of kernel  \\\n",
       "0      14.88        14.57           0.8811             5.554            3.333   \n",
       "1      14.29        14.09           0.9050             5.291            3.337   \n",
       "2      13.84        13.94           0.8955             5.324            3.379   \n",
       "3      16.14        14.99           0.9034             5.658            3.562   \n",
       "4      14.38        14.21           0.8951             5.386            3.312   \n",
       "..       ...          ...              ...               ...              ...   \n",
       "204    12.19        13.20           0.8783             5.137            2.981   \n",
       "205    11.23        12.88           0.8511             5.140            2.795   \n",
       "206    13.20        13.66           0.8883             5.236            3.232   \n",
       "207    11.84        13.21           0.8521             5.175            2.836   \n",
       "208    12.30        13.34           0.8684             5.243            2.974   \n",
       "\n",
       "     asymmetry coefficient   length of kernel groove  Type  \n",
       "0                     1.018                    4.956     1  \n",
       "1                     2.699                    4.825     1  \n",
       "2                     2.259                    4.805     1  \n",
       "3                     1.355                    5.175     1  \n",
       "4                     2.462                    4.956     1  \n",
       "..                      ...                      ...   ...  \n",
       "204                   3.631                    4.870     3  \n",
       "205                   4.325                    5.003     3  \n",
       "206                   8.315                    5.056     3  \n",
       "207                   3.598                    5.044     3  \n",
       "208                   5.637                    5.063     3  \n",
       "\n",
       "[209 rows x 8 columns]"
      ]
     },
     "execution_count": 4,
     "metadata": {},
     "output_type": "execute_result"
    }
   ],
   "source": [
    "seed"
   ]
  },
  {
   "cell_type": "code",
   "execution_count": 5,
   "metadata": {
    "id": "Nqsm_o0Mp3sv"
   },
   "outputs": [],
   "source": [
    "s = seed.values[:,0:7]"
   ]
  },
  {
   "cell_type": "code",
   "execution_count": 6,
   "metadata": {
    "colab": {
     "base_uri": "https://localhost:8080/"
    },
    "id": "c_ZVDAl5qb9w",
    "outputId": "7ff7362d-fcaa-4583-8d33-64639d0134f0"
   },
   "outputs": [
    {
     "data": {
      "text/plain": [
       "array([[14.88  , 14.57  ,  0.8811, ...,  3.333 ,  1.018 ,  4.956 ],\n",
       "       [14.29  , 14.09  ,  0.905 , ...,  3.337 ,  2.699 ,  4.825 ],\n",
       "       [13.84  , 13.94  ,  0.8955, ...,  3.379 ,  2.259 ,  4.805 ],\n",
       "       ...,\n",
       "       [13.2   , 13.66  ,  0.8883, ...,  3.232 ,  8.315 ,  5.056 ],\n",
       "       [11.84  , 13.21  ,  0.8521, ...,  2.836 ,  3.598 ,  5.044 ],\n",
       "       [12.3   , 13.34  ,  0.8684, ...,  2.974 ,  5.637 ,  5.063 ]])"
      ]
     },
     "execution_count": 6,
     "metadata": {},
     "output_type": "execute_result"
    }
   ],
   "source": [
    "s"
   ]
  },
  {
   "cell_type": "code",
   "execution_count": 7,
   "metadata": {
    "id": "znX_WePHqqb2"
   },
   "outputs": [],
   "source": [
    "scr = StandardScaler()"
   ]
  },
  {
   "cell_type": "code",
   "execution_count": 8,
   "metadata": {
    "id": "EAorCHmkq5L9"
   },
   "outputs": [],
   "source": [
    "x = scr.fit_transform(s)"
   ]
  },
  {
   "cell_type": "code",
   "execution_count": 9,
   "metadata": {
    "colab": {
     "base_uri": "https://localhost:8080/"
    },
    "id": "i911sv2MrDIk",
    "outputId": "d484abbc-e034-40b2-b7bc-2817f3384c57"
   },
   "outputs": [
    {
     "data": {
      "text/plain": [
       "array([[ 0.0118402 ,  0.00923364,  0.42749407, ...,  0.19764747,\n",
       "        -1.80015272, -0.9219711 ],\n",
       "       [-0.19093968, -0.35835326,  1.43894519, ...,  0.20823799,\n",
       "        -0.68176569, -1.18860657],\n",
       "       [-0.3456023 , -0.47322416,  1.03690395, ...,  0.31943844,\n",
       "        -0.97450233, -1.22931428],\n",
       "       ...,\n",
       "       [-0.56556692, -0.68764985,  0.73219901, ..., -0.06976315,\n",
       "         3.05461837, -0.71843257],\n",
       "       [-1.03299173, -1.03226257, -0.79978973, ..., -1.11822457,\n",
       "        -0.0836515 , -0.7428572 ],\n",
       "       [-0.87489216, -0.93270779, -0.10997159, ..., -0.75285165,\n",
       "         1.27291671, -0.70418488]])"
      ]
     },
     "execution_count": 9,
     "metadata": {},
     "output_type": "execute_result"
    }
   ],
   "source": [
    "x"
   ]
  },
  {
   "cell_type": "code",
   "execution_count": 10,
   "metadata": {
    "id": "Jyc-McMQrHoD"
   },
   "outputs": [],
   "source": [
    "y = seed.values[:,7]"
   ]
  },
  {
   "cell_type": "code",
   "execution_count": 11,
   "metadata": {
    "colab": {
     "base_uri": "https://localhost:8080/"
    },
    "id": "6gWXyQqwrth8",
    "outputId": "163f9e2f-d23b-492f-bdaa-86e54b016b43"
   },
   "outputs": [
    {
     "data": {
      "text/plain": [
       "array([1., 1., 1., 1., 1., 1., 1., 1., 1., 1., 1., 1., 1., 1., 1., 1., 1.,\n",
       "       1., 1., 1., 1., 1., 1., 1., 1., 1., 1., 1., 1., 1., 1., 1., 1., 1.,\n",
       "       1., 1., 1., 1., 1., 1., 1., 1., 1., 1., 1., 1., 1., 1., 1., 1., 1.,\n",
       "       1., 1., 1., 1., 1., 1., 1., 1., 1., 1., 1., 1., 1., 1., 1., 1., 1.,\n",
       "       1., 2., 2., 2., 2., 2., 2., 2., 2., 2., 2., 2., 2., 2., 2., 2., 2.,\n",
       "       2., 2., 2., 2., 2., 2., 2., 2., 2., 2., 2., 2., 2., 2., 2., 2., 2.,\n",
       "       2., 2., 2., 2., 2., 2., 2., 2., 2., 2., 2., 2., 2., 2., 2., 2., 2.,\n",
       "       2., 2., 2., 2., 2., 2., 2., 2., 2., 2., 2., 2., 2., 2., 2., 2., 2.,\n",
       "       2., 2., 2., 3., 3., 3., 3., 3., 3., 3., 3., 3., 3., 3., 3., 3., 3.,\n",
       "       3., 3., 3., 3., 3., 3., 3., 3., 3., 3., 3., 3., 3., 3., 3., 3., 3.,\n",
       "       3., 3., 3., 3., 3., 3., 3., 3., 3., 3., 3., 3., 3., 3., 3., 3., 3.,\n",
       "       3., 3., 3., 3., 3., 3., 3., 3., 3., 3., 3., 3., 3., 3., 3., 3., 3.,\n",
       "       3., 3., 3., 3., 3.])"
      ]
     },
     "execution_count": 11,
     "metadata": {},
     "output_type": "execute_result"
    }
   ],
   "source": [
    "y"
   ]
  },
  {
   "cell_type": "code",
   "execution_count": 12,
   "metadata": {
    "colab": {
     "base_uri": "https://localhost:8080/"
    },
    "id": "aN8Z8MtEsSvH",
    "outputId": "04fa4406-e904-4d2d-e61b-bf2c53ad8224"
   },
   "outputs": [
    {
     "name": "stdout",
     "output_type": "stream",
     "text": [
      "(167, 7)\n",
      "(167,)\n",
      "(42, 7)\n",
      "(42,)\n"
     ]
    }
   ],
   "source": [
    "xtrain,xtest,ytrain,ytest = train_test_split(x,y,random_state=1,test_size=0.2)\n",
    "print(xtrain.shape)\n",
    "print(ytrain.shape)\n",
    "print(xtest.shape)\n",
    "print(ytest.shape)"
   ]
  },
  {
   "cell_type": "code",
   "execution_count": 13,
   "metadata": {
    "colab": {
     "base_uri": "https://localhost:8080/"
    },
    "id": "XjMM_NAGGU1E",
    "outputId": "2caf194b-d4ee-411e-eb59-81c7065ae055"
   },
   "outputs": [
    {
     "data": {
      "text/plain": [
       "KNeighborsClassifier(n_neighbors=9)"
      ]
     },
     "execution_count": 13,
     "metadata": {},
     "output_type": "execute_result"
    }
   ],
   "source": [
    "from sklearn.neighbors import KNeighborsClassifier\n",
    "knn = KNeighborsClassifier(n_neighbors=9)\n",
    "knn.fit(xtrain,ytrain)"
   ]
  },
  {
   "cell_type": "code",
   "execution_count": 14,
   "metadata": {
    "id": "zP0XtCQPHOg6"
   },
   "outputs": [],
   "source": [
    "ypred = knn.predict(xtest)"
   ]
  },
  {
   "cell_type": "code",
   "execution_count": 15,
   "metadata": {
    "colab": {
     "base_uri": "https://localhost:8080/"
    },
    "id": "shnkBt1iHv71",
    "outputId": "233c9ca9-99df-409f-bfaf-a48e9dd0dda3"
   },
   "outputs": [
    {
     "data": {
      "text/plain": [
       "array([[14,  1,  3],\n",
       "       [ 0,  7,  0],\n",
       "       [ 1,  0, 16]], dtype=int64)"
      ]
     },
     "execution_count": 15,
     "metadata": {},
     "output_type": "execute_result"
    }
   ],
   "source": [
    "confusion_matrix(ytest,ypred)"
   ]
  },
  {
   "cell_type": "code",
   "execution_count": 16,
   "metadata": {
    "colab": {
     "base_uri": "https://localhost:8080/"
    },
    "id": "zVq6OO6-H9RQ",
    "outputId": "5f25c14d-4660-49e5-83e7-e783ba2d7904"
   },
   "outputs": [
    {
     "name": "stdout",
     "output_type": "stream",
     "text": [
      "              precision    recall  f1-score   support\n",
      "\n",
      "         1.0       0.93      0.78      0.85        18\n",
      "         2.0       0.88      1.00      0.93         7\n",
      "         3.0       0.84      0.94      0.89        17\n",
      "\n",
      "    accuracy                           0.88        42\n",
      "   macro avg       0.88      0.91      0.89        42\n",
      "weighted avg       0.89      0.88      0.88        42\n",
      "\n"
     ]
    }
   ],
   "source": [
    "print(classification_report(ytest,ypred))"
   ]
  },
  {
   "cell_type": "code",
   "execution_count": 17,
   "metadata": {
    "colab": {
     "base_uri": "https://localhost:8080/"
    },
    "id": "ImcsGhs5ITYU",
    "outputId": "9976db93-df8e-4e95-8a17-408b83e13cc0"
   },
   "outputs": [
    {
     "data": {
      "text/plain": [
       "88.09523809523809"
      ]
     },
     "execution_count": 17,
     "metadata": {},
     "output_type": "execute_result"
    }
   ],
   "source": [
    "score = accuracy_score(ytest,ypred) * 100\n",
    "score"
   ]
  },
  {
   "cell_type": "code",
   "execution_count": 18,
   "metadata": {},
   "outputs": [
    {
     "name": "stdout",
     "output_type": "stream",
     "text": [
      "THE ACCURACY SCORE FOR WHEAT SEED DATA BY K NEAREST NEIGHBOR ALGORITHM IS: 88.09523809523809\n"
     ]
    }
   ],
   "source": [
    "print('THE ACCURACY SCORE FOR WHEAT SEED DATA BY K NEAREST NEIGHBOR ALGORITHM IS:',score)"
   ]
  },
  {
   "cell_type": "code",
   "execution_count": 19,
   "metadata": {
    "id": "eMjSLZ5sIgnH"
   },
   "outputs": [],
   "source": [
    "from sklearn.tree import DecisionTreeClassifier"
   ]
  },
  {
   "cell_type": "code",
   "execution_count": 20,
   "metadata": {
    "id": "tM0I0vKkI0Fi"
   },
   "outputs": [],
   "source": [
    "clf_entropy = DecisionTreeClassifier(\n",
    "            criterion = \"entropy\", random_state = 10,\n",
    "            max_depth = 3, min_samples_leaf = 5)"
   ]
  },
  {
   "cell_type": "code",
   "execution_count": 21,
   "metadata": {
    "colab": {
     "base_uri": "https://localhost:8080/"
    },
    "id": "KVRbaq6jJBn9",
    "outputId": "3e4f99f9-7305-492b-aa95-75912365dbe7"
   },
   "outputs": [
    {
     "data": {
      "text/plain": [
       "DecisionTreeClassifier(criterion='entropy', max_depth=3, min_samples_leaf=5,\n",
       "                       random_state=10)"
      ]
     },
     "execution_count": 21,
     "metadata": {},
     "output_type": "execute_result"
    }
   ],
   "source": [
    "clf_entropy.fit(xtrain, ytrain)"
   ]
  },
  {
   "cell_type": "code",
   "execution_count": 22,
   "metadata": {
    "id": "XJvo4iStJhIw"
   },
   "outputs": [],
   "source": [
    "y_preds = clf_entropy.predict(xtest)"
   ]
  },
  {
   "cell_type": "code",
   "execution_count": 23,
   "metadata": {
    "colab": {
     "base_uri": "https://localhost:8080/"
    },
    "id": "c0KuyCCZJqWh",
    "outputId": "e8d138fa-325f-4e89-fd22-c55aabe9616d"
   },
   "outputs": [
    {
     "name": "stdout",
     "output_type": "stream",
     "text": [
      "[[17  0  1]\n",
      " [ 0  7  0]\n",
      " [ 3  0 14]]\n"
     ]
    }
   ],
   "source": [
    "print(confusion_matrix(ytest,y_preds))"
   ]
  },
  {
   "cell_type": "code",
   "execution_count": 24,
   "metadata": {
    "colab": {
     "base_uri": "https://localhost:8080/"
    },
    "id": "Xghh77cOJ5V_",
    "outputId": "694b2f17-d978-4adc-b616-7b3350db4c2e"
   },
   "outputs": [
    {
     "name": "stdout",
     "output_type": "stream",
     "text": [
      "entropy result:\n",
      "----------------------\n",
      "              precision    recall  f1-score   support\n",
      "\n",
      "         1.0       0.85      0.94      0.89        18\n",
      "         2.0       1.00      1.00      1.00         7\n",
      "         3.0       0.93      0.82      0.87        17\n",
      "\n",
      "    accuracy                           0.90        42\n",
      "   macro avg       0.93      0.92      0.92        42\n",
      "weighted avg       0.91      0.90      0.90        42\n",
      "\n"
     ]
    }
   ],
   "source": [
    "print('entropy result:\\n----------------------')\n",
    "print(classification_report(ytest,y_preds))"
   ]
  },
  {
   "cell_type": "code",
   "execution_count": 25,
   "metadata": {
    "colab": {
     "base_uri": "https://localhost:8080/"
    },
    "id": "lcObGo4rKXn-",
    "outputId": "8af77987-abad-4b69-fb5c-6643507d5458"
   },
   "outputs": [
    {
     "name": "stdout",
     "output_type": "stream",
     "text": [
      "THE ACCURACY SCORE FOR ABALONE DATA BY DECISION TREE CLASSIFIER ALGORITHM IN ENTROPY METHOD IS: 90.47619047619048\n"
     ]
    }
   ],
   "source": [
    "score1=accuracy_score(ytest,y_preds)*100\n",
    "print('THE ACCURACY SCORE FOR ABALONE DATA BY DECISION TREE CLASSIFIER ALGORITHM IN ENTROPY METHOD IS:',score1)"
   ]
  },
  {
   "cell_type": "code",
   "execution_count": 26,
   "metadata": {},
   "outputs": [],
   "source": [
    "a = pd.Series([ 'K NEAREST NEIGHBOR ALGORITHM' ,'DECISION TREE ALGORITHM'])"
   ]
  },
  {
   "cell_type": "code",
   "execution_count": 27,
   "metadata": {},
   "outputs": [],
   "source": [
    "b = np.array([88.09523809523809,90.47619047619048])"
   ]
  },
  {
   "cell_type": "code",
   "execution_count": 28,
   "metadata": {},
   "outputs": [],
   "source": [
    "c ={'ALGORITHMS':a,'ACCURACY SCORES':b}"
   ]
  },
  {
   "cell_type": "code",
   "execution_count": 29,
   "metadata": {},
   "outputs": [],
   "source": [
    "d = pd.DataFrame(c)"
   ]
  },
  {
   "cell_type": "code",
   "execution_count": 30,
   "metadata": {},
   "outputs": [
    {
     "data": {
      "text/html": [
       "<div>\n",
       "<style scoped>\n",
       "    .dataframe tbody tr th:only-of-type {\n",
       "        vertical-align: middle;\n",
       "    }\n",
       "\n",
       "    .dataframe tbody tr th {\n",
       "        vertical-align: top;\n",
       "    }\n",
       "\n",
       "    .dataframe thead th {\n",
       "        text-align: right;\n",
       "    }\n",
       "</style>\n",
       "<table border=\"1\" class=\"dataframe\">\n",
       "  <thead>\n",
       "    <tr style=\"text-align: right;\">\n",
       "      <th></th>\n",
       "      <th>ALGORITHMS</th>\n",
       "      <th>ACCURACY SCORES</th>\n",
       "    </tr>\n",
       "  </thead>\n",
       "  <tbody>\n",
       "    <tr>\n",
       "      <th>0</th>\n",
       "      <td>K NEAREST NEIGHBOR ALGORITHM</td>\n",
       "      <td>88.095238</td>\n",
       "    </tr>\n",
       "    <tr>\n",
       "      <th>1</th>\n",
       "      <td>DECISION TREE ALGORITHM</td>\n",
       "      <td>90.476190</td>\n",
       "    </tr>\n",
       "  </tbody>\n",
       "</table>\n",
       "</div>"
      ],
      "text/plain": [
       "                     ALGORITHMS  ACCURACY SCORES\n",
       "0  K NEAREST NEIGHBOR ALGORITHM        88.095238\n",
       "1       DECISION TREE ALGORITHM        90.476190"
      ]
     },
     "execution_count": 30,
     "metadata": {},
     "output_type": "execute_result"
    }
   ],
   "source": [
    "d"
   ]
  },
  {
   "cell_type": "code",
   "execution_count": 31,
   "metadata": {},
   "outputs": [
    {
     "data": {
      "text/plain": [
       "[Text(0, 0, 'K NEAREST NEIGHBOR ALGORITHM'),\n",
       " Text(1, 0, 'DECISION TREE ALGORITHM')]"
      ]
     },
     "execution_count": 31,
     "metadata": {},
     "output_type": "execute_result"
    },
    {
     "data": {
      "image/png": "[encoded data removed]",
      "text/plain": [
       "<Figure size 1080x360 with 1 Axes>"
      ]
     },
     "metadata": {},
     "output_type": "display_data"
    }
   ],
   "source": [
    "import seaborn as sns\n",
    "sns.set()\n",
    "sns.set(rc={'figure.figsize':(15,5)})\n",
    "ax = sns.barplot(x='ALGORITHMS',y='ACCURACY SCORES',data=d)\n",
    "ax.set_xticklabels(ax.get_xticklabels(),rotation = 0)"
   ]
  },
  {
   "cell_type": "code",
   "execution_count": null,
   "metadata": {},
   "outputs": [],
   "source": []
  }
 ],
 "metadata": {
  "colab": {
   "provenance": []
  },
  "kernelspec": {
   "display_name": "Python 3 (ipykernel)",
   "language": "python",
   "name": "python3"
  },
  "language_info": {
   "codemirror_mode": {
    "name": "ipython",
    "version": 3
   },
   "file_extension": ".py",
   "mimetype": "text/x-python",
   "name": "python",
   "nbconvert_exporter": "python",
   "pygments_lexer": "ipython3",
   "version": "3.9.7"
  }
 },
 "nbformat": 4,
 "nbformat_minor": 1
}
